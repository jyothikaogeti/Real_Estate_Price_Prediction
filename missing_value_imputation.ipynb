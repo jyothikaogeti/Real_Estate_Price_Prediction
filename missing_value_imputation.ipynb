{
 "cells": [
  {
   "cell_type": "code",
   "execution_count": 50,
   "id": "dbd22f5b-2cac-4dbc-9067-7d8ed33a1a86",
   "metadata": {},
   "outputs": [],
   "source": [
    "import pandas as pd\n",
    "import numpy as np\n",
    "import matplotlib.pyplot as plt\n",
    "import seaborn as sns\n",
    "\n",
    "import warnings\n",
    "warnings.filterwarnings('ignore')"
   ]
  },
  {
   "cell_type": "code",
   "execution_count": 51,
   "id": "ca298501-323b-4d4c-8348-b95305115145",
   "metadata": {},
   "outputs": [],
   "source": [
    "pd.set_option('display.max_columns', None)"
   ]
  },
  {
   "cell_type": "code",
   "execution_count": 52,
   "id": "e9f72c71-ba9d-4fcf-ada6-592e0de20950",
   "metadata": {},
   "outputs": [
    {
     "data": {
      "text/html": [
       "<div>\n",
       "<style scoped>\n",
       "    .dataframe tbody tr th:only-of-type {\n",
       "        vertical-align: middle;\n",
       "    }\n",
       "\n",
       "    .dataframe tbody tr th {\n",
       "        vertical-align: top;\n",
       "    }\n",
       "\n",
       "    .dataframe thead th {\n",
       "        text-align: right;\n",
       "    }\n",
       "</style>\n",
       "<table border=\"1\" class=\"dataframe\">\n",
       "  <thead>\n",
       "    <tr style=\"text-align: right;\">\n",
       "      <th></th>\n",
       "      <th>property_type</th>\n",
       "      <th>bhk</th>\n",
       "      <th>area</th>\n",
       "      <th>society_name</th>\n",
       "      <th>locality</th>\n",
       "      <th>city</th>\n",
       "      <th>price_in_crore</th>\n",
       "      <th>price_per_sqft</th>\n",
       "      <th>status</th>\n",
       "      <th>new_resale</th>\n",
       "      <th>price_negotiable</th>\n",
       "      <th>age_of_property</th>\n",
       "      <th>bathrooms</th>\n",
       "      <th>carpet_area</th>\n",
       "      <th>floor</th>\n",
       "      <th>booking_amount</th>\n",
       "      <th>balconies</th>\n",
       "      <th>additional_rooms</th>\n",
       "      <th>security_deposit</th>\n",
       "      <th>furnishing_type</th>\n",
       "      <th>facing</th>\n",
       "      <th>overlooking</th>\n",
       "      <th>ownership_type</th>\n",
       "      <th>amenities</th>\n",
       "      <th>furnish_details</th>\n",
       "    </tr>\n",
       "  </thead>\n",
       "  <tbody>\n",
       "    <tr>\n",
       "      <th>0</th>\n",
       "      <td>Apartment</td>\n",
       "      <td>2</td>\n",
       "      <td>1120.0</td>\n",
       "      <td>NaN</td>\n",
       "      <td>Asmangarh</td>\n",
       "      <td>Hyderabad</td>\n",
       "      <td>0.58</td>\n",
       "      <td>5178.0</td>\n",
       "      <td>Ready to move</td>\n",
       "      <td>Resale</td>\n",
       "      <td>Yes</td>\n",
       "      <td>Old Property</td>\n",
       "      <td>2.0</td>\n",
       "      <td>993.55</td>\n",
       "      <td>4.0</td>\n",
       "      <td>500000.0</td>\n",
       "      <td>1.0</td>\n",
       "      <td>pooja room</td>\n",
       "      <td>No Deposit</td>\n",
       "      <td>Semi-Furnished</td>\n",
       "      <td>North</td>\n",
       "      <td>Road View</td>\n",
       "      <td>Freehold</td>\n",
       "      <td>Landscaped Gardens, Lift(s), Swimming Pool, Gy...</td>\n",
       "      <td>Sofa</td>\n",
       "    </tr>\n",
       "    <tr>\n",
       "      <th>1</th>\n",
       "      <td>Apartment</td>\n",
       "      <td>3</td>\n",
       "      <td>1905.0</td>\n",
       "      <td>Asbl Asbl Spire</td>\n",
       "      <td>Kokapet</td>\n",
       "      <td>Hyderabad</td>\n",
       "      <td>1.39</td>\n",
       "      <td>7349.0</td>\n",
       "      <td>Under Construction</td>\n",
       "      <td>New</td>\n",
       "      <td>Yes</td>\n",
       "      <td>Unknown</td>\n",
       "      <td>3.0</td>\n",
       "      <td>1689.92</td>\n",
       "      <td>9.0</td>\n",
       "      <td>NaN</td>\n",
       "      <td>NaN</td>\n",
       "      <td>NaN</td>\n",
       "      <td>No Deposit</td>\n",
       "      <td>Unfurnished</td>\n",
       "      <td>NaN</td>\n",
       "      <td>NaN</td>\n",
       "      <td>Freehold</td>\n",
       "      <td>NaN</td>\n",
       "      <td>NaN</td>\n",
       "    </tr>\n",
       "    <tr>\n",
       "      <th>2</th>\n",
       "      <td>Independent House</td>\n",
       "      <td>10</td>\n",
       "      <td>14400.0</td>\n",
       "      <td>NaN</td>\n",
       "      <td>Banjara Hills</td>\n",
       "      <td>Hyderabad</td>\n",
       "      <td>17.47</td>\n",
       "      <td>12131.0</td>\n",
       "      <td>Ready to move</td>\n",
       "      <td>Resale</td>\n",
       "      <td>No</td>\n",
       "      <td>Unknown</td>\n",
       "      <td>11.0</td>\n",
       "      <td>12774.19</td>\n",
       "      <td>NaN</td>\n",
       "      <td>NaN</td>\n",
       "      <td>NaN</td>\n",
       "      <td>NaN</td>\n",
       "      <td>No Deposit</td>\n",
       "      <td>Semi-Furnished</td>\n",
       "      <td>North</td>\n",
       "      <td>NaN</td>\n",
       "      <td>NaN</td>\n",
       "      <td>NaN</td>\n",
       "      <td>NaN</td>\n",
       "    </tr>\n",
       "  </tbody>\n",
       "</table>\n",
       "</div>"
      ],
      "text/plain": [
       "       property_type  bhk     area     society_name       locality       city  \\\n",
       "0          Apartment    2   1120.0              NaN      Asmangarh  Hyderabad   \n",
       "1          Apartment    3   1905.0  Asbl Asbl Spire        Kokapet  Hyderabad   \n",
       "2  Independent House   10  14400.0              NaN  Banjara Hills  Hyderabad   \n",
       "\n",
       "   price_in_crore  price_per_sqft              status new_resale  \\\n",
       "0            0.58          5178.0       Ready to move     Resale   \n",
       "1            1.39          7349.0  Under Construction        New   \n",
       "2           17.47         12131.0       Ready to move     Resale   \n",
       "\n",
       "  price_negotiable age_of_property  bathrooms  carpet_area  floor  \\\n",
       "0              Yes    Old Property        2.0       993.55    4.0   \n",
       "1              Yes         Unknown        3.0      1689.92    9.0   \n",
       "2               No         Unknown       11.0     12774.19    NaN   \n",
       "\n",
       "   booking_amount  balconies additional_rooms security_deposit  \\\n",
       "0        500000.0        1.0       pooja room       No Deposit   \n",
       "1             NaN        NaN              NaN       No Deposit   \n",
       "2             NaN        NaN              NaN       No Deposit   \n",
       "\n",
       "  furnishing_type facing overlooking ownership_type  \\\n",
       "0  Semi-Furnished  North   Road View       Freehold   \n",
       "1     Unfurnished    NaN         NaN       Freehold   \n",
       "2  Semi-Furnished  North         NaN            NaN   \n",
       "\n",
       "                                           amenities furnish_details  \n",
       "0  Landscaped Gardens, Lift(s), Swimming Pool, Gy...            Sofa  \n",
       "1                                                NaN             NaN  \n",
       "2                                                NaN             NaN  "
      ]
     },
     "execution_count": 52,
     "metadata": {},
     "output_type": "execute_result"
    }
   ],
   "source": [
    "df = pd.read_csv(\"data/cleaned_data/hyderabad/hyd_properties_outlier_treated.csv\")\n",
    "df.head(3)"
   ]
  },
  {
   "cell_type": "code",
   "execution_count": 53,
   "id": "509937e0-f345-421a-8bf5-330e7c6f8e4a",
   "metadata": {},
   "outputs": [
    {
     "data": {
      "text/plain": [
       "(13617, 25)"
      ]
     },
     "execution_count": 53,
     "metadata": {},
     "output_type": "execute_result"
    }
   ],
   "source": [
    "df.shape"
   ]
  },
  {
   "cell_type": "markdown",
   "id": "cb437197-57da-4c63-bf55-2cf639352128",
   "metadata": {},
   "source": [
    "#### Check Duplicate Rows"
   ]
  },
  {
   "cell_type": "code",
   "execution_count": 54,
   "id": "ae2ca9cb-ab21-49ee-a97d-8c26777e1bac",
   "metadata": {},
   "outputs": [
    {
     "data": {
      "text/plain": [
       "np.int64(52)"
      ]
     },
     "execution_count": 54,
     "metadata": {},
     "output_type": "execute_result"
    }
   ],
   "source": [
    "df.duplicated().sum()"
   ]
  },
  {
   "cell_type": "code",
   "execution_count": 55,
   "id": "6ff91fbc-f5ff-46c4-b543-8bac84a97db7",
   "metadata": {
    "scrolled": true
   },
   "outputs": [
    {
     "data": {
      "text/html": [
       "<div>\n",
       "<style scoped>\n",
       "    .dataframe tbody tr th:only-of-type {\n",
       "        vertical-align: middle;\n",
       "    }\n",
       "\n",
       "    .dataframe tbody tr th {\n",
       "        vertical-align: top;\n",
       "    }\n",
       "\n",
       "    .dataframe thead th {\n",
       "        text-align: right;\n",
       "    }\n",
       "</style>\n",
       "<table border=\"1\" class=\"dataframe\">\n",
       "  <thead>\n",
       "    <tr style=\"text-align: right;\">\n",
       "      <th></th>\n",
       "      <th>property_type</th>\n",
       "      <th>bhk</th>\n",
       "      <th>area</th>\n",
       "      <th>society_name</th>\n",
       "      <th>locality</th>\n",
       "      <th>city</th>\n",
       "      <th>price_in_crore</th>\n",
       "      <th>price_per_sqft</th>\n",
       "      <th>status</th>\n",
       "      <th>new_resale</th>\n",
       "      <th>price_negotiable</th>\n",
       "      <th>age_of_property</th>\n",
       "      <th>bathrooms</th>\n",
       "      <th>carpet_area</th>\n",
       "      <th>floor</th>\n",
       "      <th>booking_amount</th>\n",
       "      <th>balconies</th>\n",
       "      <th>additional_rooms</th>\n",
       "      <th>security_deposit</th>\n",
       "      <th>furnishing_type</th>\n",
       "      <th>facing</th>\n",
       "      <th>overlooking</th>\n",
       "      <th>ownership_type</th>\n",
       "      <th>amenities</th>\n",
       "      <th>furnish_details</th>\n",
       "    </tr>\n",
       "  </thead>\n",
       "  <tbody>\n",
       "    <tr>\n",
       "      <th>4328</th>\n",
       "      <td>Apartment</td>\n",
       "      <td>1</td>\n",
       "      <td>607.0</td>\n",
       "      <td>Nebula Aavaas</td>\n",
       "      <td>Miyapur</td>\n",
       "      <td>Hyderabad</td>\n",
       "      <td>0.36</td>\n",
       "      <td>6000.0</td>\n",
       "      <td>Under Construction</td>\n",
       "      <td>New</td>\n",
       "      <td>No</td>\n",
       "      <td>Unknown</td>\n",
       "      <td>1.0</td>\n",
       "      <td>538.47</td>\n",
       "      <td>NaN</td>\n",
       "      <td>NaN</td>\n",
       "      <td>NaN</td>\n",
       "      <td>NaN</td>\n",
       "      <td>No Deposit</td>\n",
       "      <td>Unfurnished</td>\n",
       "      <td>East</td>\n",
       "      <td>NaN</td>\n",
       "      <td>NaN</td>\n",
       "      <td>Swimming Pool, Lift(s), Rain Water Harvesting,...</td>\n",
       "      <td>NaN</td>\n",
       "    </tr>\n",
       "    <tr>\n",
       "      <th>12034</th>\n",
       "      <td>Apartment</td>\n",
       "      <td>1</td>\n",
       "      <td>607.0</td>\n",
       "      <td>Nebula Aavaas</td>\n",
       "      <td>Miyapur</td>\n",
       "      <td>Hyderabad</td>\n",
       "      <td>0.36</td>\n",
       "      <td>6000.0</td>\n",
       "      <td>Under Construction</td>\n",
       "      <td>New</td>\n",
       "      <td>No</td>\n",
       "      <td>Unknown</td>\n",
       "      <td>1.0</td>\n",
       "      <td>538.47</td>\n",
       "      <td>NaN</td>\n",
       "      <td>NaN</td>\n",
       "      <td>NaN</td>\n",
       "      <td>NaN</td>\n",
       "      <td>No Deposit</td>\n",
       "      <td>Unfurnished</td>\n",
       "      <td>East</td>\n",
       "      <td>NaN</td>\n",
       "      <td>NaN</td>\n",
       "      <td>Swimming Pool, Lift(s), Rain Water Harvesting,...</td>\n",
       "      <td>NaN</td>\n",
       "    </tr>\n",
       "    <tr>\n",
       "      <th>3490</th>\n",
       "      <td>Apartment</td>\n",
       "      <td>2</td>\n",
       "      <td>1050.0</td>\n",
       "      <td>Golden Residency</td>\n",
       "      <td>Panchavati Colony</td>\n",
       "      <td>Hyderabad</td>\n",
       "      <td>0.42</td>\n",
       "      <td>4000.0</td>\n",
       "      <td>Ready to move</td>\n",
       "      <td>New</td>\n",
       "      <td>No</td>\n",
       "      <td>Unknown</td>\n",
       "      <td>2.0</td>\n",
       "      <td>931.45</td>\n",
       "      <td>NaN</td>\n",
       "      <td>NaN</td>\n",
       "      <td>NaN</td>\n",
       "      <td>NaN</td>\n",
       "      <td>No Deposit</td>\n",
       "      <td>Semi-Furnished</td>\n",
       "      <td>NorthEast</td>\n",
       "      <td>NaN</td>\n",
       "      <td>NaN</td>\n",
       "      <td>Full Power Backup, Lift(s)</td>\n",
       "      <td>Gas connection</td>\n",
       "    </tr>\n",
       "    <tr>\n",
       "      <th>6238</th>\n",
       "      <td>Apartment</td>\n",
       "      <td>2</td>\n",
       "      <td>1050.0</td>\n",
       "      <td>Golden Residency</td>\n",
       "      <td>Panchavati Colony</td>\n",
       "      <td>Hyderabad</td>\n",
       "      <td>0.42</td>\n",
       "      <td>4000.0</td>\n",
       "      <td>Ready to move</td>\n",
       "      <td>New</td>\n",
       "      <td>No</td>\n",
       "      <td>Unknown</td>\n",
       "      <td>2.0</td>\n",
       "      <td>931.45</td>\n",
       "      <td>NaN</td>\n",
       "      <td>NaN</td>\n",
       "      <td>NaN</td>\n",
       "      <td>NaN</td>\n",
       "      <td>No Deposit</td>\n",
       "      <td>Semi-Furnished</td>\n",
       "      <td>NorthEast</td>\n",
       "      <td>NaN</td>\n",
       "      <td>NaN</td>\n",
       "      <td>Full Power Backup, Lift(s)</td>\n",
       "      <td>Gas connection</td>\n",
       "    </tr>\n",
       "    <tr>\n",
       "      <th>1809</th>\n",
       "      <td>Apartment</td>\n",
       "      <td>2</td>\n",
       "      <td>1060.0</td>\n",
       "      <td>NaN</td>\n",
       "      <td>Miyapur Hmt Swarnapuri Colony</td>\n",
       "      <td>Hyderabad</td>\n",
       "      <td>0.51</td>\n",
       "      <td>4800.0</td>\n",
       "      <td>Under Construction</td>\n",
       "      <td>New</td>\n",
       "      <td>Yes</td>\n",
       "      <td>Unknown</td>\n",
       "      <td>2.0</td>\n",
       "      <td>940.32</td>\n",
       "      <td>4.0</td>\n",
       "      <td>500000.0</td>\n",
       "      <td>2.0</td>\n",
       "      <td>NaN</td>\n",
       "      <td>No Deposit</td>\n",
       "      <td>Unfurnished</td>\n",
       "      <td>East</td>\n",
       "      <td>Road View</td>\n",
       "      <td>Freehold</td>\n",
       "      <td>Rain Water Harvesting, Car Parking, Vaastu Com...</td>\n",
       "      <td>NaN</td>\n",
       "    </tr>\n",
       "    <tr>\n",
       "      <th>...</th>\n",
       "      <td>...</td>\n",
       "      <td>...</td>\n",
       "      <td>...</td>\n",
       "      <td>...</td>\n",
       "      <td>...</td>\n",
       "      <td>...</td>\n",
       "      <td>...</td>\n",
       "      <td>...</td>\n",
       "      <td>...</td>\n",
       "      <td>...</td>\n",
       "      <td>...</td>\n",
       "      <td>...</td>\n",
       "      <td>...</td>\n",
       "      <td>...</td>\n",
       "      <td>...</td>\n",
       "      <td>...</td>\n",
       "      <td>...</td>\n",
       "      <td>...</td>\n",
       "      <td>...</td>\n",
       "      <td>...</td>\n",
       "      <td>...</td>\n",
       "      <td>...</td>\n",
       "      <td>...</td>\n",
       "      <td>...</td>\n",
       "      <td>...</td>\n",
       "    </tr>\n",
       "    <tr>\n",
       "      <th>2809</th>\n",
       "      <td>Apartment</td>\n",
       "      <td>3</td>\n",
       "      <td>2250.0</td>\n",
       "      <td>NaN</td>\n",
       "      <td>Kukatpally</td>\n",
       "      <td>Hyderabad</td>\n",
       "      <td>1.65</td>\n",
       "      <td>7333.0</td>\n",
       "      <td>Under Construction</td>\n",
       "      <td>New</td>\n",
       "      <td>No</td>\n",
       "      <td>Unknown</td>\n",
       "      <td>3.0</td>\n",
       "      <td>1995.97</td>\n",
       "      <td>NaN</td>\n",
       "      <td>NaN</td>\n",
       "      <td>NaN</td>\n",
       "      <td>NaN</td>\n",
       "      <td>No Deposit</td>\n",
       "      <td>Unfurnished</td>\n",
       "      <td>East</td>\n",
       "      <td>NaN</td>\n",
       "      <td>NaN</td>\n",
       "      <td>NaN</td>\n",
       "      <td>NaN</td>\n",
       "    </tr>\n",
       "    <tr>\n",
       "      <th>4313</th>\n",
       "      <td>Apartment</td>\n",
       "      <td>3</td>\n",
       "      <td>2250.0</td>\n",
       "      <td>NaN</td>\n",
       "      <td>Kukatpally</td>\n",
       "      <td>Hyderabad</td>\n",
       "      <td>1.65</td>\n",
       "      <td>7333.0</td>\n",
       "      <td>Under Construction</td>\n",
       "      <td>New</td>\n",
       "      <td>No</td>\n",
       "      <td>Unknown</td>\n",
       "      <td>3.0</td>\n",
       "      <td>1995.97</td>\n",
       "      <td>NaN</td>\n",
       "      <td>NaN</td>\n",
       "      <td>NaN</td>\n",
       "      <td>NaN</td>\n",
       "      <td>No Deposit</td>\n",
       "      <td>Unfurnished</td>\n",
       "      <td>East</td>\n",
       "      <td>NaN</td>\n",
       "      <td>NaN</td>\n",
       "      <td>NaN</td>\n",
       "      <td>NaN</td>\n",
       "    </tr>\n",
       "    <tr>\n",
       "      <th>12524</th>\n",
       "      <td>Apartment</td>\n",
       "      <td>3</td>\n",
       "      <td>2250.0</td>\n",
       "      <td>NaN</td>\n",
       "      <td>Kukatpally</td>\n",
       "      <td>Hyderabad</td>\n",
       "      <td>1.65</td>\n",
       "      <td>7333.0</td>\n",
       "      <td>Under Construction</td>\n",
       "      <td>New</td>\n",
       "      <td>No</td>\n",
       "      <td>Unknown</td>\n",
       "      <td>3.0</td>\n",
       "      <td>1995.97</td>\n",
       "      <td>NaN</td>\n",
       "      <td>NaN</td>\n",
       "      <td>NaN</td>\n",
       "      <td>NaN</td>\n",
       "      <td>No Deposit</td>\n",
       "      <td>Unfurnished</td>\n",
       "      <td>East</td>\n",
       "      <td>NaN</td>\n",
       "      <td>NaN</td>\n",
       "      <td>NaN</td>\n",
       "      <td>NaN</td>\n",
       "    </tr>\n",
       "    <tr>\n",
       "      <th>8923</th>\n",
       "      <td>Apartment</td>\n",
       "      <td>3</td>\n",
       "      <td>2610.0</td>\n",
       "      <td>Radhey Skye</td>\n",
       "      <td>Velmala</td>\n",
       "      <td>Hyderabad</td>\n",
       "      <td>1.50</td>\n",
       "      <td>5747.0</td>\n",
       "      <td>Under Construction</td>\n",
       "      <td>New</td>\n",
       "      <td>No</td>\n",
       "      <td>Unknown</td>\n",
       "      <td>4.0</td>\n",
       "      <td>2315.32</td>\n",
       "      <td>NaN</td>\n",
       "      <td>NaN</td>\n",
       "      <td>NaN</td>\n",
       "      <td>NaN</td>\n",
       "      <td>No Deposit</td>\n",
       "      <td>Unfurnished</td>\n",
       "      <td>NaN</td>\n",
       "      <td>NaN</td>\n",
       "      <td>NaN</td>\n",
       "      <td>Swimming Pool, ATM, Indoor Games, Gymnasium</td>\n",
       "      <td>NaN</td>\n",
       "    </tr>\n",
       "    <tr>\n",
       "      <th>12283</th>\n",
       "      <td>Apartment</td>\n",
       "      <td>3</td>\n",
       "      <td>2610.0</td>\n",
       "      <td>Radhey Skye</td>\n",
       "      <td>Velmala</td>\n",
       "      <td>Hyderabad</td>\n",
       "      <td>1.50</td>\n",
       "      <td>5747.0</td>\n",
       "      <td>Under Construction</td>\n",
       "      <td>New</td>\n",
       "      <td>No</td>\n",
       "      <td>Unknown</td>\n",
       "      <td>4.0</td>\n",
       "      <td>2315.32</td>\n",
       "      <td>NaN</td>\n",
       "      <td>NaN</td>\n",
       "      <td>NaN</td>\n",
       "      <td>NaN</td>\n",
       "      <td>No Deposit</td>\n",
       "      <td>Unfurnished</td>\n",
       "      <td>NaN</td>\n",
       "      <td>NaN</td>\n",
       "      <td>NaN</td>\n",
       "      <td>Swimming Pool, ATM, Indoor Games, Gymnasium</td>\n",
       "      <td>NaN</td>\n",
       "    </tr>\n",
       "  </tbody>\n",
       "</table>\n",
       "<p>97 rows × 25 columns</p>\n",
       "</div>"
      ],
      "text/plain": [
       "      property_type  bhk    area      society_name  \\\n",
       "4328      Apartment    1   607.0     Nebula Aavaas   \n",
       "12034     Apartment    1   607.0     Nebula Aavaas   \n",
       "3490      Apartment    2  1050.0  Golden Residency   \n",
       "6238      Apartment    2  1050.0  Golden Residency   \n",
       "1809      Apartment    2  1060.0               NaN   \n",
       "...             ...  ...     ...               ...   \n",
       "2809      Apartment    3  2250.0               NaN   \n",
       "4313      Apartment    3  2250.0               NaN   \n",
       "12524     Apartment    3  2250.0               NaN   \n",
       "8923      Apartment    3  2610.0       Radhey Skye   \n",
       "12283     Apartment    3  2610.0       Radhey Skye   \n",
       "\n",
       "                            locality       city  price_in_crore  \\\n",
       "4328                         Miyapur  Hyderabad            0.36   \n",
       "12034                        Miyapur  Hyderabad            0.36   \n",
       "3490               Panchavati Colony  Hyderabad            0.42   \n",
       "6238               Panchavati Colony  Hyderabad            0.42   \n",
       "1809   Miyapur Hmt Swarnapuri Colony  Hyderabad            0.51   \n",
       "...                              ...        ...             ...   \n",
       "2809                      Kukatpally  Hyderabad            1.65   \n",
       "4313                      Kukatpally  Hyderabad            1.65   \n",
       "12524                     Kukatpally  Hyderabad            1.65   \n",
       "8923                         Velmala  Hyderabad            1.50   \n",
       "12283                        Velmala  Hyderabad            1.50   \n",
       "\n",
       "       price_per_sqft              status new_resale price_negotiable  \\\n",
       "4328           6000.0  Under Construction        New               No   \n",
       "12034          6000.0  Under Construction        New               No   \n",
       "3490           4000.0       Ready to move        New               No   \n",
       "6238           4000.0       Ready to move        New               No   \n",
       "1809           4800.0  Under Construction        New              Yes   \n",
       "...               ...                 ...        ...              ...   \n",
       "2809           7333.0  Under Construction        New               No   \n",
       "4313           7333.0  Under Construction        New               No   \n",
       "12524          7333.0  Under Construction        New               No   \n",
       "8923           5747.0  Under Construction        New               No   \n",
       "12283          5747.0  Under Construction        New               No   \n",
       "\n",
       "      age_of_property  bathrooms  carpet_area  floor  booking_amount  \\\n",
       "4328          Unknown        1.0       538.47    NaN             NaN   \n",
       "12034         Unknown        1.0       538.47    NaN             NaN   \n",
       "3490          Unknown        2.0       931.45    NaN             NaN   \n",
       "6238          Unknown        2.0       931.45    NaN             NaN   \n",
       "1809          Unknown        2.0       940.32    4.0        500000.0   \n",
       "...               ...        ...          ...    ...             ...   \n",
       "2809          Unknown        3.0      1995.97    NaN             NaN   \n",
       "4313          Unknown        3.0      1995.97    NaN             NaN   \n",
       "12524         Unknown        3.0      1995.97    NaN             NaN   \n",
       "8923          Unknown        4.0      2315.32    NaN             NaN   \n",
       "12283         Unknown        4.0      2315.32    NaN             NaN   \n",
       "\n",
       "       balconies additional_rooms security_deposit furnishing_type     facing  \\\n",
       "4328         NaN              NaN       No Deposit     Unfurnished       East   \n",
       "12034        NaN              NaN       No Deposit     Unfurnished       East   \n",
       "3490         NaN              NaN       No Deposit  Semi-Furnished  NorthEast   \n",
       "6238         NaN              NaN       No Deposit  Semi-Furnished  NorthEast   \n",
       "1809         2.0              NaN       No Deposit     Unfurnished       East   \n",
       "...          ...              ...              ...             ...        ...   \n",
       "2809         NaN              NaN       No Deposit     Unfurnished       East   \n",
       "4313         NaN              NaN       No Deposit     Unfurnished       East   \n",
       "12524        NaN              NaN       No Deposit     Unfurnished       East   \n",
       "8923         NaN              NaN       No Deposit     Unfurnished        NaN   \n",
       "12283        NaN              NaN       No Deposit     Unfurnished        NaN   \n",
       "\n",
       "      overlooking ownership_type  \\\n",
       "4328          NaN            NaN   \n",
       "12034         NaN            NaN   \n",
       "3490          NaN            NaN   \n",
       "6238          NaN            NaN   \n",
       "1809    Road View       Freehold   \n",
       "...           ...            ...   \n",
       "2809          NaN            NaN   \n",
       "4313          NaN            NaN   \n",
       "12524         NaN            NaN   \n",
       "8923          NaN            NaN   \n",
       "12283         NaN            NaN   \n",
       "\n",
       "                                               amenities furnish_details  \n",
       "4328   Swimming Pool, Lift(s), Rain Water Harvesting,...             NaN  \n",
       "12034  Swimming Pool, Lift(s), Rain Water Harvesting,...             NaN  \n",
       "3490                          Full Power Backup, Lift(s)  Gas connection  \n",
       "6238                          Full Power Backup, Lift(s)  Gas connection  \n",
       "1809   Rain Water Harvesting, Car Parking, Vaastu Com...             NaN  \n",
       "...                                                  ...             ...  \n",
       "2809                                                 NaN             NaN  \n",
       "4313                                                 NaN             NaN  \n",
       "12524                                                NaN             NaN  \n",
       "8923         Swimming Pool, ATM, Indoor Games, Gymnasium             NaN  \n",
       "12283        Swimming Pool, ATM, Indoor Games, Gymnasium             NaN  \n",
       "\n",
       "[97 rows x 25 columns]"
      ]
     },
     "execution_count": 55,
     "metadata": {},
     "output_type": "execute_result"
    }
   ],
   "source": [
    "df[df.duplicated(keep=False)].sort_values(['property_type','bhk','area','society_name','locality'])"
   ]
  },
  {
   "cell_type": "code",
   "execution_count": 56,
   "id": "921a3dbb-54cc-4abf-9f7d-d1b66db4f2b4",
   "metadata": {},
   "outputs": [
    {
     "data": {
      "text/plain": [
       "np.int64(0)"
      ]
     },
     "execution_count": 56,
     "metadata": {},
     "output_type": "execute_result"
    }
   ],
   "source": [
    "df1 = df.drop_duplicates()\n",
    "df1.duplicated().sum()"
   ]
  },
  {
   "cell_type": "code",
   "execution_count": 57,
   "id": "a3c1b852-0978-45dc-bbae-cbd29f1ba86d",
   "metadata": {},
   "outputs": [
    {
     "data": {
      "text/plain": [
       "property_type           0\n",
       "bhk                     0\n",
       "area                    0\n",
       "society_name         7058\n",
       "locality                0\n",
       "city                    0\n",
       "price_in_crore          0\n",
       "price_per_sqft          0\n",
       "status                  0\n",
       "new_resale              0\n",
       "price_negotiable        0\n",
       "age_of_property         0\n",
       "bathrooms            1749\n",
       "carpet_area             0\n",
       "floor               10637\n",
       "booking_amount      10141\n",
       "balconies           10819\n",
       "additional_rooms    11393\n",
       "security_deposit        0\n",
       "furnishing_type         0\n",
       "facing               5173\n",
       "overlooking         10994\n",
       "ownership_type       9608\n",
       "amenities            3373\n",
       "furnish_details      9420\n",
       "dtype: int64"
      ]
     },
     "execution_count": 57,
     "metadata": {},
     "output_type": "execute_result"
    }
   ],
   "source": [
    "df1.isnull().sum()"
   ]
  },
  {
   "cell_type": "markdown",
   "id": "e1c9fcf7-064a-4fcd-aaaa-317807ac4e4c",
   "metadata": {},
   "source": [
    "#### Bathrooms"
   ]
  },
  {
   "cell_type": "code",
   "execution_count": 58,
   "id": "e5ac072d-4e2c-416c-bc80-eaf8d4da6e9c",
   "metadata": {},
   "outputs": [
    {
     "data": {
      "text/plain": [
       "np.int64(1749)"
      ]
     },
     "execution_count": 58,
     "metadata": {},
     "output_type": "execute_result"
    }
   ],
   "source": [
    "df1['bathrooms'].isnull().sum()"
   ]
  },
  {
   "cell_type": "markdown",
   "id": "5a5674c2-62ef-43fe-8576-19aaf5dbc86c",
   "metadata": {},
   "source": [
    "- In this approach, missing values in the bathrooms column are filled in two steps:\n",
    "    - Step 1: Fill missing bathrooms values by grouping properties with the same bhk and area. For each group, the median number of bathrooms is calculated and used to replace NaN values within that group.\n",
    "    - Step 2: For any remaining missing values, group the data by bhk and fill the missing values with the median number of bathrooms for that specific bhk group."
   ]
  },
  {
   "cell_type": "code",
   "execution_count": 59,
   "id": "eea40d6d-49be-4ec6-acdd-fe2d676763b9",
   "metadata": {
    "scrolled": true
   },
   "outputs": [
    {
     "data": {
      "text/plain": [
       "np.int64(0)"
      ]
     },
     "execution_count": 59,
     "metadata": {},
     "output_type": "execute_result"
    }
   ],
   "source": [
    "# Step 1: Fill NaN using the median number of bathrooms for properties with similar bhk and area\n",
    "df1['bathrooms'] = df1.groupby(['bhk', 'area'])['bathrooms'].transform(lambda x: x.fillna(np.floor(x.median())))\n",
    "\n",
    "# Step 2: For any remaining NaNs, fill them using the median number of bathrooms for the same BHK\n",
    "df1['bathrooms'] = df1.groupby('bhk')['bathrooms'].transform(lambda x: x.fillna(np.floor(x.median())))\n",
    "\n",
    "df1['bathrooms'] = df1['bathrooms'].astype(int)\n",
    "df1['bathrooms'].isnull().sum()"
   ]
  },
  {
   "cell_type": "code",
   "execution_count": 60,
   "id": "b1cab66c-7ccc-4859-a6b0-802c10f933c9",
   "metadata": {},
   "outputs": [
    {
     "data": {
      "text/plain": [
       "count    13565.000000\n",
       "mean         2.797862\n",
       "std          0.977849\n",
       "min          1.000000\n",
       "25%          2.000000\n",
       "50%          3.000000\n",
       "75%          3.000000\n",
       "max         11.000000\n",
       "Name: bathrooms, dtype: float64"
      ]
     },
     "execution_count": 60,
     "metadata": {},
     "output_type": "execute_result"
    }
   ],
   "source": [
    "df1['bathrooms'].describe()"
   ]
  },
  {
   "cell_type": "code",
   "execution_count": 61,
   "id": "d67a329c-20a7-45ee-911e-65d10ebf52da",
   "metadata": {},
   "outputs": [
    {
     "data": {
      "text/plain": [
       "<Axes: xlabel='bathrooms', ylabel='Count'>"
      ]
     },
     "execution_count": 61,
     "metadata": {},
     "output_type": "execute_result"
    },
    {
     "data": {
      "image/png": "[encoded data removed]",
      "text/plain": [
       "<Figure size 640x480 with 1 Axes>"
      ]
     },
     "metadata": {},
     "output_type": "display_data"
    }
   ],
   "source": [
    "sns.histplot(df1['bathrooms'])"
   ]
  },
  {
   "cell_type": "markdown",
   "id": "cbda6ee5-fa3e-44ba-a96d-a6bb0f62e854",
   "metadata": {},
   "source": [
    "#### floor"
   ]
  },
  {
   "cell_type": "code",
   "execution_count": 62,
   "id": "8fa0fafe-7796-4f36-a3eb-3bf1180ccfc3",
   "metadata": {},
   "outputs": [
    {
     "data": {
      "text/plain": [
       "np.int64(10637)"
      ]
     },
     "execution_count": 62,
     "metadata": {},
     "output_type": "execute_result"
    }
   ],
   "source": [
    "df1['floor'].isnull().sum()"
   ]
  },
  {
   "cell_type": "markdown",
   "id": "8d8f8f19-2838-4399-beac-2590c24902d4",
   "metadata": {},
   "source": [
    "- In this approach, missing floor values are filled by:\n",
    "    - Step 1: Assign floor value 0 to the properties whose value is Villa.\n",
    "    - Step 2: Grouping properties by bhk, property_type, and locality and filling missing values with the most frequent (mode) floor within each group.\n",
    "    - Step 3: For any remaining NaNs, filling them with the mode based on just bhk and property_type.\n",
    "    - Step 4: As a final step, using the overall mode of the floor column to fill any remaining missing values."
   ]
  },
  {
   "cell_type": "code",
   "execution_count": 63,
   "id": "31213d90-40a3-4574-8fae-2b04f6b57ca6",
   "metadata": {},
   "outputs": [
    {
     "data": {
      "text/plain": [
       "np.int64(0)"
      ]
     },
     "execution_count": 63,
     "metadata": {},
     "output_type": "execute_result"
    }
   ],
   "source": [
    "# Step 1: Set 'floor' to 0 for all villas since villas don't have floors\n",
    "df1.loc[df1['property_type'] == 'villa', 'floor'] = 0\n",
    "\n",
    "# Step 2: Fill NaN values by grouping by 'bhk', 'property_type', and 'locality' using the mode\n",
    "df1['floor'] = df1.groupby(['bhk', 'property_type', 'locality'])['floor'].transform(lambda x: x.fillna(x.mode()[0] if not x.mode().empty else np.nan))\n",
    "\n",
    "# Step 3: For any remaining NaNs, fill them using the mode of 'bhk' and 'property_type'\n",
    "df1['floor'] = df1.groupby(['bhk', 'property_type'])['floor'].transform(lambda x: x.fillna(x.mode()[0] if not x.mode().empty else np.nan))\n",
    "\n",
    "# Step 4: Finally, fill any remaining NaNs using the overall mode for the entire 'floor' column\n",
    "overall_mode = df1['floor'].mode()[0]\n",
    "df1['floor'] = df1['floor'].fillna(overall_mode)\n",
    "\n",
    "df1['floor'].isna().sum()"
   ]
  },
  {
   "cell_type": "code",
   "execution_count": 64,
   "id": "3bac5e79-e6f4-4a4f-bd89-5a352487ac78",
   "metadata": {},
   "outputs": [
    {
     "data": {
      "text/plain": [
       "count    13565.000000\n",
       "mean         3.786067\n",
       "std          3.953124\n",
       "min          0.000000\n",
       "25%          2.000000\n",
       "50%          2.000000\n",
       "75%          5.000000\n",
       "max         48.000000\n",
       "Name: floor, dtype: float64"
      ]
     },
     "execution_count": 64,
     "metadata": {},
     "output_type": "execute_result"
    }
   ],
   "source": [
    "df1['floor'].describe()"
   ]
  },
  {
   "cell_type": "code",
   "execution_count": 65,
   "id": "0e3173ae-5bf5-4779-ae12-60892ac04cd4",
   "metadata": {},
   "outputs": [
    {
     "data": {
      "text/plain": [
       "array([ 4.,  9.,  2.,  1.,  7., 16.,  5.,  8.,  3.,  0., 10., 20., 17.,\n",
       "       14.,  6., 11., 34., 15., 12., 18., 19., 22., 27., 13., 38., 24.,\n",
       "       39., 23., 21., 46., 43., 42., 28., 30., 48., 33., 26., 32., 40.,\n",
       "       41., 36., 29., 31.])"
      ]
     },
     "execution_count": 65,
     "metadata": {},
     "output_type": "execute_result"
    }
   ],
   "source": [
    "df1['floor'].unique()"
   ]
  },
  {
   "cell_type": "code",
   "execution_count": 66,
   "id": "33947732-5aaa-4d47-86b3-a5719acfe938",
   "metadata": {},
   "outputs": [
    {
     "data": {
      "text/plain": [
       "<Axes: xlabel='floor', ylabel='Count'>"
      ]
     },
     "execution_count": 66,
     "metadata": {},
     "output_type": "execute_result"
    },
    {
     "data": {
      "image/png": "[encoded data removed]",
      "text/plain": [
       "<Figure size 640x480 with 1 Axes>"
      ]
     },
     "metadata": {},
     "output_type": "display_data"
    }
   ],
   "source": [
    "sns.histplot(df1['floor'])"
   ]
  },
  {
   "cell_type": "code",
   "execution_count": 67,
   "id": "f059aab4-d879-4758-9555-57cb57e1fa80",
   "metadata": {
    "scrolled": true
   },
   "outputs": [
    {
     "data": {
      "text/html": [
       "<div>\n",
       "<style scoped>\n",
       "    .dataframe tbody tr th:only-of-type {\n",
       "        vertical-align: middle;\n",
       "    }\n",
       "\n",
       "    .dataframe tbody tr th {\n",
       "        vertical-align: top;\n",
       "    }\n",
       "\n",
       "    .dataframe thead th {\n",
       "        text-align: right;\n",
       "    }\n",
       "</style>\n",
       "<table border=\"1\" class=\"dataframe\">\n",
       "  <thead>\n",
       "    <tr style=\"text-align: right;\">\n",
       "      <th></th>\n",
       "      <th>property_type</th>\n",
       "      <th>bhk</th>\n",
       "      <th>locality</th>\n",
       "      <th>price_in_crore</th>\n",
       "      <th>floor</th>\n",
       "    </tr>\n",
       "  </thead>\n",
       "  <tbody>\n",
       "    <tr>\n",
       "      <th>1756</th>\n",
       "      <td>Apartment</td>\n",
       "      <td>4</td>\n",
       "      <td>Nanakramguda</td>\n",
       "      <td>3.44</td>\n",
       "      <td>46.0</td>\n",
       "    </tr>\n",
       "    <tr>\n",
       "      <th>1843</th>\n",
       "      <td>Apartment</td>\n",
       "      <td>4</td>\n",
       "      <td>Nanakramguda</td>\n",
       "      <td>4.29</td>\n",
       "      <td>43.0</td>\n",
       "    </tr>\n",
       "    <tr>\n",
       "      <th>1988</th>\n",
       "      <td>Apartment</td>\n",
       "      <td>3</td>\n",
       "      <td>Nanakramguda</td>\n",
       "      <td>1.61</td>\n",
       "      <td>42.0</td>\n",
       "    </tr>\n",
       "    <tr>\n",
       "      <th>2647</th>\n",
       "      <td>Apartment</td>\n",
       "      <td>4</td>\n",
       "      <td>Nanakramguda</td>\n",
       "      <td>3.03</td>\n",
       "      <td>48.0</td>\n",
       "    </tr>\n",
       "    <tr>\n",
       "      <th>5773</th>\n",
       "      <td>Apartment</td>\n",
       "      <td>2</td>\n",
       "      <td>Miyapur</td>\n",
       "      <td>0.92</td>\n",
       "      <td>41.0</td>\n",
       "    </tr>\n",
       "    <tr>\n",
       "      <th>8894</th>\n",
       "      <td>Apartment</td>\n",
       "      <td>4</td>\n",
       "      <td>Nanakramguda</td>\n",
       "      <td>3.15</td>\n",
       "      <td>41.0</td>\n",
       "    </tr>\n",
       "    <tr>\n",
       "      <th>9219</th>\n",
       "      <td>Apartment</td>\n",
       "      <td>4</td>\n",
       "      <td>Nanakramguda</td>\n",
       "      <td>3.41</td>\n",
       "      <td>46.0</td>\n",
       "    </tr>\n",
       "    <tr>\n",
       "      <th>10460</th>\n",
       "      <td>Apartment</td>\n",
       "      <td>4</td>\n",
       "      <td>Nanakramguda</td>\n",
       "      <td>3.55</td>\n",
       "      <td>46.0</td>\n",
       "    </tr>\n",
       "  </tbody>\n",
       "</table>\n",
       "</div>"
      ],
      "text/plain": [
       "      property_type  bhk      locality  price_in_crore  floor\n",
       "1756      Apartment    4  Nanakramguda            3.44   46.0\n",
       "1843      Apartment    4  Nanakramguda            4.29   43.0\n",
       "1988      Apartment    3  Nanakramguda            1.61   42.0\n",
       "2647      Apartment    4  Nanakramguda            3.03   48.0\n",
       "5773      Apartment    2       Miyapur            0.92   41.0\n",
       "8894      Apartment    4  Nanakramguda            3.15   41.0\n",
       "9219      Apartment    4  Nanakramguda            3.41   46.0\n",
       "10460     Apartment    4  Nanakramguda            3.55   46.0"
      ]
     },
     "execution_count": 67,
     "metadata": {},
     "output_type": "execute_result"
    }
   ],
   "source": [
    "df1[df1['floor'] > 40][['property_type', 'bhk', 'locality','price_in_crore', 'floor']]"
   ]
  },
  {
   "cell_type": "markdown",
   "id": "5fb58f40-cc6d-42e9-989e-e9fde2289c78",
   "metadata": {},
   "source": [
    "The data points appear legitimate for the current real estate market in Hyderabad, especially for high-rise apartments in prime locations like Nanakramguda."
   ]
  },
  {
   "cell_type": "markdown",
   "id": "dcb6435e-af20-46b2-aa2c-f30f5b331a15",
   "metadata": {},
   "source": [
    "#### balconies"
   ]
  },
  {
   "cell_type": "code",
   "execution_count": 68,
   "id": "d4a342ef-aab9-41b9-a4d9-9215617bf37d",
   "metadata": {},
   "outputs": [
    {
     "data": {
      "text/plain": [
       "array([ 1., nan,  2.,  4.,  3.,  5.,  6.])"
      ]
     },
     "execution_count": 68,
     "metadata": {},
     "output_type": "execute_result"
    }
   ],
   "source": [
    "df1['balconies'].unique()"
   ]
  },
  {
   "cell_type": "code",
   "execution_count": 69,
   "id": "aa65d711-feef-4dde-a03e-ae4a3aa97772",
   "metadata": {},
   "outputs": [
    {
     "data": {
      "text/plain": [
       "np.int64(10819)"
      ]
     },
     "execution_count": 69,
     "metadata": {},
     "output_type": "execute_result"
    }
   ],
   "source": [
    "df1['balconies'].isnull().sum()"
   ]
  },
  {
   "cell_type": "markdown",
   "id": "7ee7f9de-52f3-4870-84f8-736bb0492d76",
   "metadata": {},
   "source": [
    "- In this approach, missing values in the balconies column are filled as follows:\n",
    "\n",
    "    - Step 1: Group properties by bhk and area, and fill missing balconies values with the median number of balconies within each group.\n",
    "    - Step 2: For any remaining missing values, group by property_type and fill them with the most frequent (mode) number of balconies within each property type."
   ]
  },
  {
   "cell_type": "markdown",
   "id": "877c2f09-4b64-43ab-96bd-6d514b97616a",
   "metadata": {},
   "source": [
    "##### Filling by Median Based on Similar Features"
   ]
  },
  {
   "cell_type": "code",
   "execution_count": 70,
   "id": "a0c7f68f-dd97-4de4-bd63-98f1e4326a50",
   "metadata": {
    "scrolled": true
   },
   "outputs": [
    {
     "data": {
      "text/plain": [
       "np.int64(0)"
      ]
     },
     "execution_count": 70,
     "metadata": {},
     "output_type": "execute_result"
    }
   ],
   "source": [
    "# Fill NaN using the median number of balconies for properties with similar bhk and area\n",
    "df1['balconies'] = df1.groupby(['bhk', 'area'])['balconies'].transform(\n",
    "    lambda x: x.fillna(round(x.median()) if not np.isnan(x.median()) else np.nan)\n",
    ")\n",
    "\n",
    "# Fill NaN using the mode number of balconies for each property type\n",
    "df1['balconies'] = df1.groupby('property_type')['balconies'].transform(\n",
    "    lambda x: x.fillna(x.mode()[0] if not x.mode().empty else np.nan)\n",
    ")\n",
    "\n",
    "df1['balconies'].isnull().sum()"
   ]
  },
  {
   "cell_type": "code",
   "execution_count": 71,
   "id": "9e5cb0de-95fd-4b9d-b1a9-46b310cbcfaf",
   "metadata": {},
   "outputs": [
    {
     "data": {
      "text/plain": [
       "<Axes: xlabel='balconies', ylabel='Count'>"
      ]
     },
     "execution_count": 71,
     "metadata": {},
     "output_type": "execute_result"
    },
    {
     "data": {
      "image/png": "[encoded data removed]",
      "text/plain": [
       "<Figure size 640x480 with 1 Axes>"
      ]
     },
     "metadata": {},
     "output_type": "display_data"
    }
   ],
   "source": [
    "sns.histplot(df1['balconies'])"
   ]
  },
  {
   "cell_type": "markdown",
   "id": "aa3b7017-6a7f-4d58-be60-410724c6ed18",
   "metadata": {},
   "source": [
    "#### facing"
   ]
  },
  {
   "cell_type": "code",
   "execution_count": 72,
   "id": "686d2a0f-9198-47d6-990a-dc9e5746f13f",
   "metadata": {},
   "outputs": [
    {
     "data": {
      "text/plain": [
       "array(['North', nan, 'East', 'West', 'NorthEast', 'SouthEast', 'South',\n",
       "       'NorthWest', 'SouthWest'], dtype=object)"
      ]
     },
     "execution_count": 72,
     "metadata": {},
     "output_type": "execute_result"
    }
   ],
   "source": [
    "df1['facing'].unique()"
   ]
  },
  {
   "cell_type": "code",
   "execution_count": 73,
   "id": "bb06da39-c36c-4bdf-b036-f0f4365e71c0",
   "metadata": {},
   "outputs": [
    {
     "data": {
      "text/plain": [
       "np.int64(5173)"
      ]
     },
     "execution_count": 73,
     "metadata": {},
     "output_type": "execute_result"
    }
   ],
   "source": [
    "df1['facing'].isnull().sum()"
   ]
  },
  {
   "cell_type": "markdown",
   "id": "e23188e5-1b87-4e40-88a6-9b34ead2ce07",
   "metadata": {},
   "source": [
    "- In this approach, missing values in the facing column are filled as follows:\n",
    "    - Step-1: Missing values in the facing column are filled using the mode (most frequent value) within groups defined by locality, property_type, and bhk.\n",
    "    - Step-2: If a group has no mode, fill with overall_mode "
   ]
  },
  {
   "cell_type": "code",
   "execution_count": 74,
   "id": "fef0c73a-0865-4597-8f68-4d743ba87181",
   "metadata": {},
   "outputs": [
    {
     "data": {
      "text/plain": [
       "np.int64(0)"
      ]
     },
     "execution_count": 74,
     "metadata": {},
     "output_type": "execute_result"
    }
   ],
   "source": [
    "overall_mode = df1['facing'].mode()[0]\n",
    "\n",
    "# Define a function to fill missing values with mode\n",
    "def fill_with_mode(group):\n",
    "    mode_value = group.mode()[0] if not group.mode().empty else overall_mode\n",
    "    return group.fillna(mode_value)\n",
    "\n",
    "# Group by relevant columns and fill missing values\n",
    "df1['facing'] = df1.groupby(['locality', 'property_type', 'bhk'])['facing'].transform(fill_with_mode)\n",
    "df1['facing'].isnull().sum()"
   ]
  },
  {
   "cell_type": "code",
   "execution_count": 75,
   "id": "3a01033b-d5a0-4d4e-825d-bab4211b7d96",
   "metadata": {},
   "outputs": [
    {
     "data": {
      "text/plain": [
       "facing\n",
       "East         8985\n",
       "West         2624\n",
       "North        1078\n",
       "NorthEast     496\n",
       "South         110\n",
       "NorthWest      99\n",
       "SouthEast      87\n",
       "SouthWest      86\n",
       "Name: count, dtype: int64"
      ]
     },
     "execution_count": 75,
     "metadata": {},
     "output_type": "execute_result"
    }
   ],
   "source": [
    "df1['facing'].value_counts()"
   ]
  },
  {
   "cell_type": "code",
   "execution_count": 76,
   "id": "0c8ea62e-81b5-46c7-9a73-4c2a9a62fdf9",
   "metadata": {},
   "outputs": [
    {
     "data": {
      "text/plain": [
       "property_type           0\n",
       "bhk                     0\n",
       "area                    0\n",
       "society_name         7058\n",
       "locality                0\n",
       "city                    0\n",
       "price_in_crore          0\n",
       "price_per_sqft          0\n",
       "status                  0\n",
       "new_resale              0\n",
       "price_negotiable        0\n",
       "age_of_property         0\n",
       "bathrooms               0\n",
       "carpet_area             0\n",
       "floor                   0\n",
       "booking_amount      10141\n",
       "balconies               0\n",
       "additional_rooms    11393\n",
       "security_deposit        0\n",
       "furnishing_type         0\n",
       "facing                  0\n",
       "overlooking         10994\n",
       "ownership_type       9608\n",
       "amenities            3373\n",
       "furnish_details      9420\n",
       "dtype: int64"
      ]
     },
     "execution_count": 76,
     "metadata": {},
     "output_type": "execute_result"
    }
   ],
   "source": [
    "df1.isnull().sum()"
   ]
  },
  {
   "cell_type": "code",
   "execution_count": 77,
   "id": "1c5ff902-0656-4edc-b5d9-418a6325b830",
   "metadata": {},
   "outputs": [
    {
     "data": {
      "text/html": [
       "<div>\n",
       "<style scoped>\n",
       "    .dataframe tbody tr th:only-of-type {\n",
       "        vertical-align: middle;\n",
       "    }\n",
       "\n",
       "    .dataframe tbody tr th {\n",
       "        vertical-align: top;\n",
       "    }\n",
       "\n",
       "    .dataframe thead th {\n",
       "        text-align: right;\n",
       "    }\n",
       "</style>\n",
       "<table border=\"1\" class=\"dataframe\">\n",
       "  <thead>\n",
       "    <tr style=\"text-align: right;\">\n",
       "      <th></th>\n",
       "      <th>property_type</th>\n",
       "      <th>bhk</th>\n",
       "      <th>area</th>\n",
       "      <th>society_name</th>\n",
       "      <th>locality</th>\n",
       "      <th>city</th>\n",
       "      <th>price_in_crore</th>\n",
       "      <th>price_per_sqft</th>\n",
       "      <th>status</th>\n",
       "      <th>new_resale</th>\n",
       "      <th>price_negotiable</th>\n",
       "      <th>age_of_property</th>\n",
       "      <th>bathrooms</th>\n",
       "      <th>carpet_area</th>\n",
       "      <th>floor</th>\n",
       "      <th>booking_amount</th>\n",
       "      <th>balconies</th>\n",
       "      <th>additional_rooms</th>\n",
       "      <th>security_deposit</th>\n",
       "      <th>furnishing_type</th>\n",
       "      <th>facing</th>\n",
       "      <th>overlooking</th>\n",
       "      <th>ownership_type</th>\n",
       "      <th>amenities</th>\n",
       "      <th>furnish_details</th>\n",
       "    </tr>\n",
       "  </thead>\n",
       "  <tbody>\n",
       "    <tr>\n",
       "      <th>0</th>\n",
       "      <td>Apartment</td>\n",
       "      <td>2</td>\n",
       "      <td>1120.0</td>\n",
       "      <td>NaN</td>\n",
       "      <td>Asmangarh</td>\n",
       "      <td>Hyderabad</td>\n",
       "      <td>0.58</td>\n",
       "      <td>5178.0</td>\n",
       "      <td>Ready to move</td>\n",
       "      <td>Resale</td>\n",
       "      <td>Yes</td>\n",
       "      <td>Old Property</td>\n",
       "      <td>2</td>\n",
       "      <td>993.55</td>\n",
       "      <td>4.0</td>\n",
       "      <td>500000.0</td>\n",
       "      <td>1.0</td>\n",
       "      <td>pooja room</td>\n",
       "      <td>No Deposit</td>\n",
       "      <td>Semi-Furnished</td>\n",
       "      <td>North</td>\n",
       "      <td>Road View</td>\n",
       "      <td>Freehold</td>\n",
       "      <td>Landscaped Gardens, Lift(s), Swimming Pool, Gy...</td>\n",
       "      <td>Sofa</td>\n",
       "    </tr>\n",
       "    <tr>\n",
       "      <th>1</th>\n",
       "      <td>Apartment</td>\n",
       "      <td>3</td>\n",
       "      <td>1905.0</td>\n",
       "      <td>Asbl Asbl Spire</td>\n",
       "      <td>Kokapet</td>\n",
       "      <td>Hyderabad</td>\n",
       "      <td>1.39</td>\n",
       "      <td>7349.0</td>\n",
       "      <td>Under Construction</td>\n",
       "      <td>New</td>\n",
       "      <td>Yes</td>\n",
       "      <td>Unknown</td>\n",
       "      <td>3</td>\n",
       "      <td>1689.92</td>\n",
       "      <td>9.0</td>\n",
       "      <td>NaN</td>\n",
       "      <td>1.0</td>\n",
       "      <td>NaN</td>\n",
       "      <td>No Deposit</td>\n",
       "      <td>Unfurnished</td>\n",
       "      <td>East</td>\n",
       "      <td>NaN</td>\n",
       "      <td>Freehold</td>\n",
       "      <td>NaN</td>\n",
       "      <td>NaN</td>\n",
       "    </tr>\n",
       "    <tr>\n",
       "      <th>2</th>\n",
       "      <td>Independent House</td>\n",
       "      <td>10</td>\n",
       "      <td>14400.0</td>\n",
       "      <td>NaN</td>\n",
       "      <td>Banjara Hills</td>\n",
       "      <td>Hyderabad</td>\n",
       "      <td>17.47</td>\n",
       "      <td>12131.0</td>\n",
       "      <td>Ready to move</td>\n",
       "      <td>Resale</td>\n",
       "      <td>No</td>\n",
       "      <td>Unknown</td>\n",
       "      <td>11</td>\n",
       "      <td>12774.19</td>\n",
       "      <td>2.0</td>\n",
       "      <td>NaN</td>\n",
       "      <td>1.0</td>\n",
       "      <td>NaN</td>\n",
       "      <td>No Deposit</td>\n",
       "      <td>Semi-Furnished</td>\n",
       "      <td>North</td>\n",
       "      <td>NaN</td>\n",
       "      <td>NaN</td>\n",
       "      <td>NaN</td>\n",
       "      <td>NaN</td>\n",
       "    </tr>\n",
       "  </tbody>\n",
       "</table>\n",
       "</div>"
      ],
      "text/plain": [
       "       property_type  bhk     area     society_name       locality       city  \\\n",
       "0          Apartment    2   1120.0              NaN      Asmangarh  Hyderabad   \n",
       "1          Apartment    3   1905.0  Asbl Asbl Spire        Kokapet  Hyderabad   \n",
       "2  Independent House   10  14400.0              NaN  Banjara Hills  Hyderabad   \n",
       "\n",
       "   price_in_crore  price_per_sqft              status new_resale  \\\n",
       "0            0.58          5178.0       Ready to move     Resale   \n",
       "1            1.39          7349.0  Under Construction        New   \n",
       "2           17.47         12131.0       Ready to move     Resale   \n",
       "\n",
       "  price_negotiable age_of_property  bathrooms  carpet_area  floor  \\\n",
       "0              Yes    Old Property          2       993.55    4.0   \n",
       "1              Yes         Unknown          3      1689.92    9.0   \n",
       "2               No         Unknown         11     12774.19    2.0   \n",
       "\n",
       "   booking_amount  balconies additional_rooms security_deposit  \\\n",
       "0        500000.0        1.0       pooja room       No Deposit   \n",
       "1             NaN        1.0              NaN       No Deposit   \n",
       "2             NaN        1.0              NaN       No Deposit   \n",
       "\n",
       "  furnishing_type facing overlooking ownership_type  \\\n",
       "0  Semi-Furnished  North   Road View       Freehold   \n",
       "1     Unfurnished   East         NaN       Freehold   \n",
       "2  Semi-Furnished  North         NaN            NaN   \n",
       "\n",
       "                                           amenities furnish_details  \n",
       "0  Landscaped Gardens, Lift(s), Swimming Pool, Gy...            Sofa  \n",
       "1                                                NaN             NaN  \n",
       "2                                                NaN             NaN  "
      ]
     },
     "execution_count": 77,
     "metadata": {},
     "output_type": "execute_result"
    }
   ],
   "source": [
    "df1.head(3)"
   ]
  },
  {
   "cell_type": "markdown",
   "id": "20df8744-0f46-48b3-a5cf-9a4b5b668dc8",
   "metadata": {},
   "source": [
    "- The columns 'society_name', 'status', 'price_negotiable', 'booking_amount', 'security_deposit', 'overlooking', 'ownership_type' are unnecessary so that we will drop them.\n",
    "- We will perform feature engineering on the columns 'additional_rooms', 'amenities', and 'furnish_details'."
   ]
  },
  {
   "cell_type": "markdown",
   "id": "2d941435-c892-4d0e-84b7-fb69149d4063",
   "metadata": {},
   "source": [
    "#### Drop the features which are not required for model"
   ]
  },
  {
   "cell_type": "code",
   "execution_count": 80,
   "id": "86dafe01-919f-4bab-81cf-dc6c1199776d",
   "metadata": {},
   "outputs": [
    {
     "data": {
      "text/html": [
       "<div>\n",
       "<style scoped>\n",
       "    .dataframe tbody tr th:only-of-type {\n",
       "        vertical-align: middle;\n",
       "    }\n",
       "\n",
       "    .dataframe tbody tr th {\n",
       "        vertical-align: top;\n",
       "    }\n",
       "\n",
       "    .dataframe thead th {\n",
       "        text-align: right;\n",
       "    }\n",
       "</style>\n",
       "<table border=\"1\" class=\"dataframe\">\n",
       "  <thead>\n",
       "    <tr style=\"text-align: right;\">\n",
       "      <th></th>\n",
       "      <th>property_type</th>\n",
       "      <th>bhk</th>\n",
       "      <th>area</th>\n",
       "      <th>locality</th>\n",
       "      <th>city</th>\n",
       "      <th>price_in_crore</th>\n",
       "      <th>price_per_sqft</th>\n",
       "      <th>new_resale</th>\n",
       "      <th>age_of_property</th>\n",
       "      <th>bathrooms</th>\n",
       "      <th>carpet_area</th>\n",
       "      <th>floor</th>\n",
       "      <th>balconies</th>\n",
       "      <th>additional_rooms</th>\n",
       "      <th>furnishing_type</th>\n",
       "      <th>facing</th>\n",
       "      <th>amenities</th>\n",
       "      <th>furnish_details</th>\n",
       "    </tr>\n",
       "  </thead>\n",
       "  <tbody>\n",
       "    <tr>\n",
       "      <th>0</th>\n",
       "      <td>Apartment</td>\n",
       "      <td>2</td>\n",
       "      <td>1120.0</td>\n",
       "      <td>Asmangarh</td>\n",
       "      <td>Hyderabad</td>\n",
       "      <td>0.58</td>\n",
       "      <td>5178.0</td>\n",
       "      <td>Resale</td>\n",
       "      <td>Old Property</td>\n",
       "      <td>2</td>\n",
       "      <td>993.55</td>\n",
       "      <td>4.0</td>\n",
       "      <td>1.0</td>\n",
       "      <td>pooja room</td>\n",
       "      <td>Semi-Furnished</td>\n",
       "      <td>North</td>\n",
       "      <td>Landscaped Gardens, Lift(s), Swimming Pool, Gy...</td>\n",
       "      <td>Sofa</td>\n",
       "    </tr>\n",
       "    <tr>\n",
       "      <th>1</th>\n",
       "      <td>Apartment</td>\n",
       "      <td>3</td>\n",
       "      <td>1905.0</td>\n",
       "      <td>Kokapet</td>\n",
       "      <td>Hyderabad</td>\n",
       "      <td>1.39</td>\n",
       "      <td>7349.0</td>\n",
       "      <td>New</td>\n",
       "      <td>Unknown</td>\n",
       "      <td>3</td>\n",
       "      <td>1689.92</td>\n",
       "      <td>9.0</td>\n",
       "      <td>1.0</td>\n",
       "      <td>NaN</td>\n",
       "      <td>Unfurnished</td>\n",
       "      <td>East</td>\n",
       "      <td>NaN</td>\n",
       "      <td>NaN</td>\n",
       "    </tr>\n",
       "    <tr>\n",
       "      <th>2</th>\n",
       "      <td>Independent House</td>\n",
       "      <td>10</td>\n",
       "      <td>14400.0</td>\n",
       "      <td>Banjara Hills</td>\n",
       "      <td>Hyderabad</td>\n",
       "      <td>17.47</td>\n",
       "      <td>12131.0</td>\n",
       "      <td>Resale</td>\n",
       "      <td>Unknown</td>\n",
       "      <td>11</td>\n",
       "      <td>12774.19</td>\n",
       "      <td>2.0</td>\n",
       "      <td>1.0</td>\n",
       "      <td>NaN</td>\n",
       "      <td>Semi-Furnished</td>\n",
       "      <td>North</td>\n",
       "      <td>NaN</td>\n",
       "      <td>NaN</td>\n",
       "    </tr>\n",
       "  </tbody>\n",
       "</table>\n",
       "</div>"
      ],
      "text/plain": [
       "       property_type  bhk     area       locality       city  price_in_crore  \\\n",
       "0          Apartment    2   1120.0      Asmangarh  Hyderabad            0.58   \n",
       "1          Apartment    3   1905.0        Kokapet  Hyderabad            1.39   \n",
       "2  Independent House   10  14400.0  Banjara Hills  Hyderabad           17.47   \n",
       "\n",
       "   price_per_sqft new_resale age_of_property  bathrooms  carpet_area  floor  \\\n",
       "0          5178.0     Resale    Old Property          2       993.55    4.0   \n",
       "1          7349.0        New         Unknown          3      1689.92    9.0   \n",
       "2         12131.0     Resale         Unknown         11     12774.19    2.0   \n",
       "\n",
       "   balconies additional_rooms furnishing_type facing  \\\n",
       "0        1.0       pooja room  Semi-Furnished  North   \n",
       "1        1.0              NaN     Unfurnished   East   \n",
       "2        1.0              NaN  Semi-Furnished  North   \n",
       "\n",
       "                                           amenities furnish_details  \n",
       "0  Landscaped Gardens, Lift(s), Swimming Pool, Gy...            Sofa  \n",
       "1                                                NaN             NaN  \n",
       "2                                                NaN             NaN  "
      ]
     },
     "execution_count": 80,
     "metadata": {},
     "output_type": "execute_result"
    }
   ],
   "source": [
    "cols_to_drop = ['society_name','status','price_negotiable','booking_amount','security_deposit','overlooking', 'ownership_type']\n",
    "df2 = df1.drop(cols_to_drop, axis='columns')\n",
    "df2.head(3)"
   ]
  },
  {
   "cell_type": "code",
   "execution_count": 81,
   "id": "575138b1-4482-4a60-8ce1-7e2bc34e0328",
   "metadata": {},
   "outputs": [
    {
     "data": {
      "text/plain": [
       "(13565, 18)"
      ]
     },
     "execution_count": 81,
     "metadata": {},
     "output_type": "execute_result"
    }
   ],
   "source": [
    "df2.shape"
   ]
  },
  {
   "cell_type": "markdown",
   "id": "5e186c1e-f4f6-4a60-9c41-b1c508ddac36",
   "metadata": {},
   "source": [
    "#### save this imputed df to csv"
   ]
  },
  {
   "cell_type": "code",
   "execution_count": 82,
   "id": "b067ed9b-138a-4dfc-b4c1-37b10299a742",
   "metadata": {},
   "outputs": [],
   "source": [
    "df2.to_csv(\"data/cleaned_data/hyderabad/hyd_properties_imputed.csv\", index=False)"
   ]
  }
 ],
 "metadata": {
  "kernelspec": {
   "display_name": "Python (realestate-env)",
   "language": "python",
   "name": "realestate-env"
  },
  "language_info": {
   "codemirror_mode": {
    "name": "ipython",
    "version": 3
   },
   "file_extension": ".py",
   "mimetype": "text/x-python",
   "name": "python",
   "nbconvert_exporter": "python",
   "pygments_lexer": "ipython3",
   "version": "3.12.6"
  }
 },
 "nbformat": 4,
 "nbformat_minor": 5
}
